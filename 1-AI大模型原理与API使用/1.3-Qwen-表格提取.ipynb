{
 "cells": [
  {
   "cell_type": "code",
   "execution_count": 1,
   "metadata": {},
   "outputs": [],
   "source": [
    "import json\n",
    "import os\n",
    "import dashscope\n",
    "from dashscope.api_entities.dashscope_response import Role\n",
    "from dotenv import load_dotenv\n",
    "\n",
    "load_dotenv()  # 加载 .env 文件\n",
    "api_key = os.environ.get(\"DASHSCOPE_API_KEY\")\n",
    "\n",
    "dashscope.api_key = api_key"
   ]
  },
  {
   "cell_type": "code",
   "execution_count": 6,
   "metadata": {},
   "outputs": [],
   "source": [
    "def get_response(messages):\n",
    "    response = dashscope.MultiModalConversation.call(\n",
    "        model='qwen-vl-plus',\n",
    "        messages=messages\n",
    "    )\n",
    "    return response"
   ]
  },
  {
   "cell_type": "code",
   "execution_count": 7,
   "metadata": {},
   "outputs": [],
   "source": [
    "content = [\n",
    "    {'image': 'https://aiwucai.oss-cn-huhehaote.aliyuncs.com/pdf_table.jpg'}, # Either a local path or an url\n",
    "    {'text': '这是一个表格图片，帮我提取里面的内容，输出JSON格式'}\n",
    "]\n",
    "\n",
    "messages=[{\"role\": \"user\", \"content\": content}]\n",
    "# 得到响应\n",
    "response = get_response(messages)"
   ]
  },
  {
   "cell_type": "code",
   "execution_count": 9,
   "metadata": {},
   "outputs": [
    {
     "name": "stdout",
     "output_type": "stream",
     "text": [
      "```json\n",
      "{\n",
      "  \"客户信息\": {\n",
      "    \"客户名称\": \"\",\n",
      "    \"联系方式\": \"\",\n",
      "    \"客诉日期\": \"\",\n",
      "    \"回复时间\": \"\",\n",
      "    \"产品型号\": \"\",\n",
      "    \"生产日期\": \"\",\n",
      "    \"数量\": \"1\",\n",
      "    \"使用年限\": \"不详\"\n",
      "  },\n",
      "  \"问题描述\": {\n",
      "    \"严重程度\": [\"一般\", \"重大\"],\n",
      "    \"急紧程度\": [\"一般\", \"紧急\"],\n",
      "    \"问题产品追综\": [\"客户处\", \"物流中\", \"已回厂\"],\n",
      "    \"客户诉求点\": [\"退货\", \"换货\", \"维修\"],\n",
      "    \"图例说明\": \"\",\n",
      "    \"描述人/提报人\": \"2018年__月__日\"\n",
      "  },\n",
      "  \"问题要因分析\": {\n",
      "    \"分析人\": \"2018年__月__日\"\n",
      "  },\n",
      "  \"原因归属\": [\"设计\", \"可靠性\", \"品质部\", \"生产部\", \"仓储\", \"运输\", \"其它\"],\n",
      "  \"零时措施\": {\n",
      "    \"对策建意\": [\"更换液压头，更换阀盘\"],\n",
      "    \"对策方法\": [\"库存产品再检验\", \"退回二级供应商\", \"生产停产纠正\", \"其它\"]\n",
      "  },\n",
      "  \"改善措施\": {\n",
      "    \"防止发生对策\": [\n",
      "      \"1、防止发生对策:\"\n",
      "    ],\n",
      "    \"建意人\": \"2018年__月__日\",\n",
      "    \"要求完成时间\": \"2018年__月__日\",\n",
      "    \"进程追踪\": [\"按时完成\", \"延期完成\", \"未完成\"]\n",
      "  },\n",
      "  \"纠正归属\": [\"设计部\", \"品质部\", \"装配车间\", \"压铸车间\", \"车床车间\", \"仓库\", \"运输\", \"其它\"],\n",
      "  \"备注说明\": \"\"\n",
      "}\n",
      "```\n"
     ]
    }
   ],
   "source": [
    "print(response.output.choices[0].message.content[0]['text'])"
   ]
  }
 ],
 "metadata": {
  "kernelspec": {
   "display_name": ".venv",
   "language": "python",
   "name": "python3"
  },
  "language_info": {
   "codemirror_mode": {
    "name": "ipython",
    "version": 3
   },
   "file_extension": ".py",
   "mimetype": "text/x-python",
   "name": "python",
   "nbconvert_exporter": "python",
   "pygments_lexer": "ipython3",
   "version": "3.11.2"
  }
 },
 "nbformat": 4,
 "nbformat_minor": 2
}
