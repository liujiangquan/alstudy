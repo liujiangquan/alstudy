{
 "cells": [
  {
   "cell_type": "code",
   "execution_count": 13,
   "metadata": {},
   "outputs": [],
   "source": [
    "import json\n",
    "import os\n",
    "import dashscope\n",
    "from dashscope.api_entities.dashscope_response import Role\n",
    "from dotenv import load_dotenv\n",
    "\n",
    "load_dotenv()  # 加载 .env 文件\n",
    "api_key = os.environ.get(\"DASHSCOPE_API_KEY\")\n",
    "\n",
    "dashscope.api_key = api_key\n",
    "\n",
    "def get_reponse(messages):\n",
    "    response = dashscope.Generation.call(\n",
    "        model='qwen-turbo',\n",
    "        messages=messages,\n",
    "        result_format='message'\n",
    "    )\n",
    "    return response\n",
    "\n",
    "def extract_content_safe(response):\n",
    "    try:\n",
    "        # 尝试 Qwen/DashScope 格式\n",
    "        if 'output' in response and 'choices' in response['output']:\n",
    "            return response['output']['choices'][0]['message']['content']\n",
    "        # 尝试 OpenAI 兼容格式\n",
    "        elif 'choices' in response:\n",
    "            return response['choices'][0]['message']['content']\n",
    "        else:\n",
    "            raise ValueError(\"Unsupported API response format\")\n",
    "    except (KeyError, IndexError, TypeError) as e:\n",
    "        raise ValueError(f\"Failed to extract content: {str(e)}\")"
   ]
  },
  {
   "cell_type": "code",
   "execution_count": 14,
   "metadata": {},
   "outputs": [
    {
     "name": "stdout",
     "output_type": "stream",
     "text": [
      "错误\n"
     ]
    }
   ],
   "source": [
    "# 正确的消息格式\n",
    "review = '朱元璋是大宋开国皇帝'\n",
    "messages = [\n",
    "    {\"role\": \"system\", \"content\": \"你是一名历史老师，判断学生的回答是否正确，回复请用一个词语：正确 或者 错误\"},\n",
    "    {\"role\": \"user\", \"content\": review}\n",
    "]\n",
    "reponse = get_reponse(messages)\n",
    "# 示例使用\n",
    "content = extract_content_safe(reponse)\n",
    "print(content)"
   ]
  }
 ],
 "metadata": {
  "kernelspec": {
   "display_name": ".venv",
   "language": "python",
   "name": "python3"
  },
  "language_info": {
   "codemirror_mode": {
    "name": "ipython",
    "version": 3
   },
   "file_extension": ".py",
   "mimetype": "text/x-python",
   "name": "python",
   "nbconvert_exporter": "python",
   "pygments_lexer": "ipython3",
   "version": "3.11.2"
  }
 },
 "nbformat": 4,
 "nbformat_minor": 2
}
