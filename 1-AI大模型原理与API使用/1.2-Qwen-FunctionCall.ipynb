{
 "cells": [
  {
   "cell_type": "code",
   "execution_count": 5,
   "metadata": {},
   "outputs": [],
   "source": [
    "import json\n",
    "import os\n",
    "import dashscope\n",
    "from dashscope.api_entities.dashscope_response import Role\n",
    "from dotenv import load_dotenv\n",
    "\n",
    "load_dotenv()  # 加载 .env 文件\n",
    "api_key = os.environ.get(\"DASHSCOPE_API_KEY\")\n",
    "\n",
    "dashscope.api_key = api_key"
   ]
  },
  {
   "cell_type": "code",
   "execution_count": 6,
   "metadata": {},
   "outputs": [],
   "source": [
    "# 编写你的函数\n",
    "def get_current_weather(location, unit=\"摄氏度\"):\n",
    "    # 获取指定地点的天气\n",
    "    temperature = -1\n",
    "    if '大连' in location or 'Dalian' in location:\n",
    "        temperature = 10\n",
    "    if location=='上海' or 'Shanghai' in location:\n",
    "        temperature = 36\n",
    "    if location=='深圳' or 'Shenzhen' in location:\n",
    "        temperature = 37\n",
    "    weather_info = {\n",
    "        \"location\": location,\n",
    "        \"temperature\": temperature,\n",
    "        \"unit\": unit,\n",
    "        \"forecast\": [\"晴天\", \"微风\"],\n",
    "    }\n",
    "    return json.dumps(weather_info)\n",
    "\n",
    "functions = [\n",
    "    {\n",
    "      'name': 'get_current_weather',\n",
    "      'description': '获取指定城市的天气情况.',\n",
    "      'parameters': {\n",
    "            'type': 'object',\n",
    "            'properties': {\n",
    "                'location': {\n",
    "                    'type': 'string',\n",
    "                    'description': '城市名称，如上海'\n",
    "                },\n",
    "                'unit': {'type': 'string', 'enum': ['celsius', 'fahrenheit']}\n",
    "            },\n",
    "        'required': ['location']\n",
    "      }\n",
    "    }\n",
    "]"
   ]
  },
  {
   "cell_type": "code",
   "execution_count": 7,
   "metadata": {},
   "outputs": [],
   "source": [
    "# 封装模型响应函数\n",
    "def get_response(messages):\n",
    "    try:\n",
    "        response = dashscope.Generation.call(\n",
    "            model='qwen-turbo',\n",
    "            messages=messages,\n",
    "            functions=functions,\n",
    "            result_format='message'\n",
    "        )\n",
    "        return response\n",
    "    except Exception as e:\n",
    "        print(f\"API调用出错: {str(e)}\")\n",
    "        return None"
   ]
  },
  {
   "cell_type": "code",
   "execution_count": 15,
   "metadata": {},
   "outputs": [],
   "source": [
    "# 使用function call进行QA\n",
    "from typing import Dict, Any, Optional\n",
    "def run_conversation(user_query: str) -> Optional[Dict[str, Any]]:\n",
    "    messages=[{\"role\": \"user\", \"content\": user_query}]\n",
    "    \n",
    "    # 得到第一次响应\n",
    "    response = get_response(messages)\n",
    "    if not response or not response.output:\n",
    "        print(\"获取响应失败\")\n",
    "        return None\n",
    "        \n",
    "    print('response=', response)\n",
    "    \n",
    "    message = response.output.choices[0].message\n",
    "    messages.append(message)\n",
    "    print('message=', message)\n",
    "    \n",
    "    # Step 2, 判断用户是否要call function\n",
    "    if hasattr(message, 'function_call') and message.function_call:\n",
    "        function_call = message.function_call\n",
    "        tool_name = function_call['name']\n",
    "        # Step 3, 执行function call\n",
    "        arguments = json.loads(function_call['arguments'])\n",
    "        print('arguments=', arguments)\n",
    "        # Step 3: 执行函数调用\n",
    "        tool_response = f\"Error: 函数执行失败\"\n",
    "        if tool_name == \"get_current_weather\":\n",
    "                tool_response = get_current_weather(\n",
    "                    location=arguments.get(\"location\"),\n",
    "                    unit=arguments.get(\"unit\", \"celsius\"),\n",
    "            )\n",
    "        tool_info = {\"role\": \"function\", \"name\": tool_name, \"content\": tool_response}\n",
    "        print('tool_info=', tool_info)\n",
    "        messages.append(tool_info)\n",
    "        print('messages=', messages)\n",
    "        \n",
    "        #Step 4, 得到第二次响应\n",
    "        response = get_response(messages)\n",
    "        if not response or not response.output:\n",
    "            print(\"获取第二次响应失败\")\n",
    "            return None\n",
    "            \n",
    "        print('response=', response)\n",
    "        message = response.output.choices[0].message\n",
    "        return message\n",
    "    return message\n"
   ]
  },
  {
   "cell_type": "code",
   "execution_count": 16,
   "metadata": {},
   "outputs": [
    {
     "name": "stdout",
     "output_type": "stream",
     "text": [
      "response= {\"status_code\": 200, \"request_id\": \"ca208306-f8bf-90ce-907d-a068c396aae4\", \"code\": \"\", \"message\": \"\", \"output\": {\"text\": null, \"finish_reason\": null, \"choices\": [{\"finish_reason\": \"function_call\", \"message\": {\"role\": \"assistant\", \"content\": \"\", \"function_call\": {\"name\": \"get_current_weather\", \"arguments\": \"{\\\"location\\\": \\\"大连\\\"}\"}}}]}, \"usage\": {\"input_tokens\": 196, \"output_tokens\": 18, \"total_tokens\": 214, \"prompt_tokens_details\": {\"cached_tokens\": 0}}}\n",
      "message= {\"role\": \"assistant\", \"content\": \"\", \"function_call\": {\"name\": \"get_current_weather\", \"arguments\": \"{\\\"location\\\": \\\"大连\\\"}\"}}\n",
      "arguments= {'location': '大连'}\n",
      "tool_info= {'role': 'function', 'name': 'get_current_weather', 'content': '{\"location\": \"\\\\u5927\\\\u8fde\", \"temperature\": 10, \"unit\": \"celsius\", \"forecast\": [\"\\\\u6674\\\\u5929\", \"\\\\u5fae\\\\u98ce\"]}'}\n",
      "messages= [{'role': 'user', 'content': '大连的天气怎样'}, Message({'role': 'assistant', 'content': '', 'function_call': {'name': 'get_current_weather', 'arguments': '{\"location\": \"大连\"}'}}), {'role': 'function', 'name': 'get_current_weather', 'content': '{\"location\": \"\\\\u5927\\\\u8fde\", \"temperature\": 10, \"unit\": \"celsius\", \"forecast\": [\"\\\\u6674\\\\u5929\", \"\\\\u5fae\\\\u98ce\"]}'}]\n",
      "response= {\"status_code\": 200, \"request_id\": \"46e1c0d0-a6ae-93d3-98e4-0d0d0c6da3d0\", \"code\": \"\", \"message\": \"\", \"output\": {\"text\": null, \"finish_reason\": null, \"choices\": [{\"finish_reason\": \"stop\", \"message\": {\"role\": \"assistant\", \"content\": \"当前大连的温度是10摄氏度，天气状况为晴朗，有微风。\"}}]}, \"usage\": {\"input_tokens\": 275, \"output_tokens\": 23, \"total_tokens\": 298, \"prompt_tokens_details\": {\"cached_tokens\": 0}}}\n",
      "最终结果: {\"role\": \"assistant\", \"content\": \"当前大连的温度是10摄氏度，天气状况为晴朗，有微风。\"}\n"
     ]
    }
   ],
   "source": [
    "if __name__ == \"__main__\":\n",
    "    result = run_conversation(\"大连的天气怎样\")\n",
    "    if result:\n",
    "        print(\"最终结果:\", result)\n",
    "    else:\n",
    "        print(\"对话执行失败\")"
   ]
  }
 ],
 "metadata": {
  "kernelspec": {
   "display_name": ".venv",
   "language": "python",
   "name": "python3"
  },
  "language_info": {
   "codemirror_mode": {
    "name": "ipython",
    "version": 3
   },
   "file_extension": ".py",
   "mimetype": "text/x-python",
   "name": "python",
   "nbconvert_exporter": "python",
   "pygments_lexer": "ipython3",
   "version": "3.11.2"
  }
 },
 "nbformat": 4,
 "nbformat_minor": 2
}
